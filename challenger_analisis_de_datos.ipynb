{
  "nbformat": 4,
  "nbformat_minor": 0,
  "metadata": {
    "colab": {
      "provenance": []
    },
    "kernelspec": {
      "name": "python3",
      "display_name": "Python 3"
    },
    "language_info": {
      "name": "python"
    }
  },
  "cells": [
    {
      "cell_type": "markdown",
      "source": [
        "#**Challenger TelecomX**"
      ],
      "metadata": {
        "id": "smuxKrcp8szR"
      }
    },
    {
      "cell_type": "markdown",
      "source": [
        "# **Caso de estudio**"
      ],
      "metadata": {
        "id": "1QJlaL4j80jQ"
      }
    },
    {
      "cell_type": "markdown",
      "source": [
        "Telecom X - Análisis de Evasión de Clientes\n",
        "\n",
        "Has sido contratado como asistente de análisis de datos en Telecom X y formarás parte del proyecto \"Churn de Clientes\". La empresa enfrenta una alta tasa de cancelaciones y necesita comprender los factores que llevan a la pérdida de clientes.\n",
        "\n",
        "\n",
        "Tu desafío será recopilar, procesar y analizar los datos, utilizando Python y sus principales bibliotecas para extraer información valiosa. A partir de tu análisis, el equipo de Data Science podrá avanzar en modelos predictivos y desarrollar estrategias para reducir la evasión.\n",
        "\n",
        "✅ Importar y manipular datos desde una API de manera eficiente.\n",
        "\n",
        "✅ Aplicar los conceptos de ETL (Extracción, Transformación y Carga) en la preparación de los datos.\n",
        "\n",
        "✅ Crear visualizaciones estratégicas para identificar patrones y tendencias.\n",
        "\n",
        "✅ Realizar un Análisis Exploratorio de Datos (EDA) y generar un informe con insights relevantes.\n"
      ],
      "metadata": {
        "id": "IMbx8gmFhIqz"
      }
    },
    {
      "cell_type": "code",
      "execution_count": null,
      "metadata": {
        "id": "wJ5G-xzjgDom"
      },
      "outputs": [],
      "source": [
        "import pandas as pd\n",
        "import requests\n",
        "import json\n",
        "from pandas import json_normalize\n",
        "\n"
      ]
    },
    {
      "cell_type": "markdown",
      "source": [
        "##Carga de datos"
      ],
      "metadata": {
        "id": "-OMt1Rg589bo"
      }
    },
    {
      "cell_type": "markdown",
      "source": [
        "Para iniciar tu análisis, necesitarás importar los datos de la API de Telecom X. Estos datos están disponibles en formato JSON y contienen información esencial sobre los clientes, incluyendo datos demográficos, tipo de servicio contratado y estado de evasión."
      ],
      "metadata": {
        "id": "E9gBO39KBtfZ"
      }
    },
    {
      "cell_type": "markdown",
      "source": [
        "✅ Cargar los datos directamente desde la API utilizando Python.\n",
        "\n",
        "✅ Convertir los datos a un DataFrame de Pandas para facilitar su manipulación.\n"
      ],
      "metadata": {
        "id": "8gEaA9zoB3BU"
      }
    },
    {
      "cell_type": "markdown",
      "source": [
        "1- Cargando los datos"
      ],
      "metadata": {
        "id": "tg_L7msqB_Qs"
      }
    },
    {
      "cell_type": "code",
      "source": [
        "url= 'https://raw.githubusercontent.com/ingridcristh/challenge2-data-science-LATAM/main/TelecomX_Data.json'"
      ],
      "metadata": {
        "id": "Lk8lXHjCOhVV"
      },
      "execution_count": null,
      "outputs": []
    },
    {
      "cell_type": "code",
      "source": [
        "df = pd.read_json(url)\n"
      ],
      "metadata": {
        "id": "EQplUVZPui0J"
      },
      "execution_count": null,
      "outputs": []
    },
    {
      "cell_type": "markdown",
      "source": [
        "##Normalizamos las columnas que contiene diccionarios"
      ],
      "metadata": {
        "id": "sXiETowi9HEH"
      }
    },
    {
      "cell_type": "markdown",
      "source": [
        "Normalizando los datos"
      ],
      "metadata": {
        "id": "hhNGXly3CE_8"
      }
    },
    {
      "cell_type": "code",
      "source": [
        "customer= json_normalize(df['customer'])\n",
        "phone= json_normalize(df['phone'])\n",
        "internet= json_normalize(df['internet'])\n",
        "account= json_normalize(df['account'])"
      ],
      "metadata": {
        "id": "12Gb-V5R1F5T"
      },
      "execution_count": null,
      "outputs": []
    },
    {
      "cell_type": "code",
      "source": [
        "df_normalizado= pd.concat([df[['customerID','Churn']],customer,phone,internet,account],axis=1)"
      ],
      "metadata": {
        "id": "92A2lYBu1R3C"
      },
      "execution_count": null,
      "outputs": []
    },
    {
      "cell_type": "markdown",
      "source": [
        "Trasformamos todos los datos normalizados en un Dataframe"
      ],
      "metadata": {
        "id": "RllVx0BF9Mtv"
      }
    },
    {
      "cell_type": "code",
      "source": [
        "df= pd.DataFrame(df_normalizado)"
      ],
      "metadata": {
        "id": "0e7EA0RD28Sf"
      },
      "execution_count": null,
      "outputs": []
    },
    {
      "cell_type": "code",
      "source": [
        "# comprobamos el nuevo Df y que no tenga registros con diccionarios\n",
        "df.sample(3)\n"
      ],
      "metadata": {
        "colab": {
          "base_uri": "https://localhost:8080/",
          "height": 245
        },
        "id": "sKmJJ_9228Pl",
        "outputId": "6a6de1bf-fc57-48c7-9a7e-de158393e5bc"
      },
      "execution_count": null,
      "outputs": [
        {
          "output_type": "execute_result",
          "data": {
            "text/plain": [
              "     customerID Churn  gender  SeniorCitizen Partner Dependents  tenure  \\\n",
              "907  1271-UODNO    No    Male              0      No         No      39   \n",
              "899  1265-XTECC   Yes  Female              1     Yes         No      68   \n",
              "129  0219-QAERP    No    Male              0     Yes         No      30   \n",
              "\n",
              "    PhoneService MultipleLines InternetService  ...         OnlineBackup  \\\n",
              "907          Yes           Yes             DSL  ...                   No   \n",
              "899          Yes           Yes     Fiber optic  ...                  Yes   \n",
              "129          Yes            No              No  ...  No internet service   \n",
              "\n",
              "        DeviceProtection          TechSupport          StreamingTV  \\\n",
              "907                   No                  Yes                   No   \n",
              "899                   No                   No                   No   \n",
              "129  No internet service  No internet service  No internet service   \n",
              "\n",
              "         StreamingMovies  Contract PaperlessBilling            PaymentMethod  \\\n",
              "907                   No  Two year              Yes  Credit card (automatic)   \n",
              "899                  Yes  One year              Yes  Credit card (automatic)   \n",
              "129  No internet service  One year               No  Credit card (automatic)   \n",
              "\n",
              "    Charges.Monthly  Charges.Total  \n",
              "907           53.85         2200.7  \n",
              "899           96.55         6581.9  \n",
              "129           19.80         576.65  \n",
              "\n",
              "[3 rows x 21 columns]"
            ],
            "text/html": [
              "\n",
              "  <div id=\"df-c848985a-4969-403a-876a-83575cda8c5e\" class=\"colab-df-container\">\n",
              "    <div>\n",
              "<style scoped>\n",
              "    .dataframe tbody tr th:only-of-type {\n",
              "        vertical-align: middle;\n",
              "    }\n",
              "\n",
              "    .dataframe tbody tr th {\n",
              "        vertical-align: top;\n",
              "    }\n",
              "\n",
              "    .dataframe thead th {\n",
              "        text-align: right;\n",
              "    }\n",
              "</style>\n",
              "<table border=\"1\" class=\"dataframe\">\n",
              "  <thead>\n",
              "    <tr style=\"text-align: right;\">\n",
              "      <th></th>\n",
              "      <th>customerID</th>\n",
              "      <th>Churn</th>\n",
              "      <th>gender</th>\n",
              "      <th>SeniorCitizen</th>\n",
              "      <th>Partner</th>\n",
              "      <th>Dependents</th>\n",
              "      <th>tenure</th>\n",
              "      <th>PhoneService</th>\n",
              "      <th>MultipleLines</th>\n",
              "      <th>InternetService</th>\n",
              "      <th>...</th>\n",
              "      <th>OnlineBackup</th>\n",
              "      <th>DeviceProtection</th>\n",
              "      <th>TechSupport</th>\n",
              "      <th>StreamingTV</th>\n",
              "      <th>StreamingMovies</th>\n",
              "      <th>Contract</th>\n",
              "      <th>PaperlessBilling</th>\n",
              "      <th>PaymentMethod</th>\n",
              "      <th>Charges.Monthly</th>\n",
              "      <th>Charges.Total</th>\n",
              "    </tr>\n",
              "  </thead>\n",
              "  <tbody>\n",
              "    <tr>\n",
              "      <th>907</th>\n",
              "      <td>1271-UODNO</td>\n",
              "      <td>No</td>\n",
              "      <td>Male</td>\n",
              "      <td>0</td>\n",
              "      <td>No</td>\n",
              "      <td>No</td>\n",
              "      <td>39</td>\n",
              "      <td>Yes</td>\n",
              "      <td>Yes</td>\n",
              "      <td>DSL</td>\n",
              "      <td>...</td>\n",
              "      <td>No</td>\n",
              "      <td>No</td>\n",
              "      <td>Yes</td>\n",
              "      <td>No</td>\n",
              "      <td>No</td>\n",
              "      <td>Two year</td>\n",
              "      <td>Yes</td>\n",
              "      <td>Credit card (automatic)</td>\n",
              "      <td>53.85</td>\n",
              "      <td>2200.7</td>\n",
              "    </tr>\n",
              "    <tr>\n",
              "      <th>899</th>\n",
              "      <td>1265-XTECC</td>\n",
              "      <td>Yes</td>\n",
              "      <td>Female</td>\n",
              "      <td>1</td>\n",
              "      <td>Yes</td>\n",
              "      <td>No</td>\n",
              "      <td>68</td>\n",
              "      <td>Yes</td>\n",
              "      <td>Yes</td>\n",
              "      <td>Fiber optic</td>\n",
              "      <td>...</td>\n",
              "      <td>Yes</td>\n",
              "      <td>No</td>\n",
              "      <td>No</td>\n",
              "      <td>No</td>\n",
              "      <td>Yes</td>\n",
              "      <td>One year</td>\n",
              "      <td>Yes</td>\n",
              "      <td>Credit card (automatic)</td>\n",
              "      <td>96.55</td>\n",
              "      <td>6581.9</td>\n",
              "    </tr>\n",
              "    <tr>\n",
              "      <th>129</th>\n",
              "      <td>0219-QAERP</td>\n",
              "      <td>No</td>\n",
              "      <td>Male</td>\n",
              "      <td>0</td>\n",
              "      <td>Yes</td>\n",
              "      <td>No</td>\n",
              "      <td>30</td>\n",
              "      <td>Yes</td>\n",
              "      <td>No</td>\n",
              "      <td>No</td>\n",
              "      <td>...</td>\n",
              "      <td>No internet service</td>\n",
              "      <td>No internet service</td>\n",
              "      <td>No internet service</td>\n",
              "      <td>No internet service</td>\n",
              "      <td>No internet service</td>\n",
              "      <td>One year</td>\n",
              "      <td>No</td>\n",
              "      <td>Credit card (automatic)</td>\n",
              "      <td>19.80</td>\n",
              "      <td>576.65</td>\n",
              "    </tr>\n",
              "  </tbody>\n",
              "</table>\n",
              "<p>3 rows × 21 columns</p>\n",
              "</div>\n",
              "    <div class=\"colab-df-buttons\">\n",
              "\n",
              "  <div class=\"colab-df-container\">\n",
              "    <button class=\"colab-df-convert\" onclick=\"convertToInteractive('df-c848985a-4969-403a-876a-83575cda8c5e')\"\n",
              "            title=\"Convert this dataframe to an interactive table.\"\n",
              "            style=\"display:none;\">\n",
              "\n",
              "  <svg xmlns=\"http://www.w3.org/2000/svg\" height=\"24px\" viewBox=\"0 -960 960 960\">\n",
              "    <path d=\"M120-120v-720h720v720H120Zm60-500h600v-160H180v160Zm220 220h160v-160H400v160Zm0 220h160v-160H400v160ZM180-400h160v-160H180v160Zm440 0h160v-160H620v160ZM180-180h160v-160H180v160Zm440 0h160v-160H620v160Z\"/>\n",
              "  </svg>\n",
              "    </button>\n",
              "\n",
              "  <style>\n",
              "    .colab-df-container {\n",
              "      display:flex;\n",
              "      gap: 12px;\n",
              "    }\n",
              "\n",
              "    .colab-df-convert {\n",
              "      background-color: #E8F0FE;\n",
              "      border: none;\n",
              "      border-radius: 50%;\n",
              "      cursor: pointer;\n",
              "      display: none;\n",
              "      fill: #1967D2;\n",
              "      height: 32px;\n",
              "      padding: 0 0 0 0;\n",
              "      width: 32px;\n",
              "    }\n",
              "\n",
              "    .colab-df-convert:hover {\n",
              "      background-color: #E2EBFA;\n",
              "      box-shadow: 0px 1px 2px rgba(60, 64, 67, 0.3), 0px 1px 3px 1px rgba(60, 64, 67, 0.15);\n",
              "      fill: #174EA6;\n",
              "    }\n",
              "\n",
              "    .colab-df-buttons div {\n",
              "      margin-bottom: 4px;\n",
              "    }\n",
              "\n",
              "    [theme=dark] .colab-df-convert {\n",
              "      background-color: #3B4455;\n",
              "      fill: #D2E3FC;\n",
              "    }\n",
              "\n",
              "    [theme=dark] .colab-df-convert:hover {\n",
              "      background-color: #434B5C;\n",
              "      box-shadow: 0px 1px 3px 1px rgba(0, 0, 0, 0.15);\n",
              "      filter: drop-shadow(0px 1px 2px rgba(0, 0, 0, 0.3));\n",
              "      fill: #FFFFFF;\n",
              "    }\n",
              "  </style>\n",
              "\n",
              "    <script>\n",
              "      const buttonEl =\n",
              "        document.querySelector('#df-c848985a-4969-403a-876a-83575cda8c5e button.colab-df-convert');\n",
              "      buttonEl.style.display =\n",
              "        google.colab.kernel.accessAllowed ? 'block' : 'none';\n",
              "\n",
              "      async function convertToInteractive(key) {\n",
              "        const element = document.querySelector('#df-c848985a-4969-403a-876a-83575cda8c5e');\n",
              "        const dataTable =\n",
              "          await google.colab.kernel.invokeFunction('convertToInteractive',\n",
              "                                                    [key], {});\n",
              "        if (!dataTable) return;\n",
              "\n",
              "        const docLinkHtml = 'Like what you see? Visit the ' +\n",
              "          '<a target=\"_blank\" href=https://colab.research.google.com/notebooks/data_table.ipynb>data table notebook</a>'\n",
              "          + ' to learn more about interactive tables.';\n",
              "        element.innerHTML = '';\n",
              "        dataTable['output_type'] = 'display_data';\n",
              "        await google.colab.output.renderOutput(dataTable, element);\n",
              "        const docLink = document.createElement('div');\n",
              "        docLink.innerHTML = docLinkHtml;\n",
              "        element.appendChild(docLink);\n",
              "      }\n",
              "    </script>\n",
              "  </div>\n",
              "\n",
              "\n",
              "    <div id=\"df-82942315-2410-4999-97b6-eef29d845346\">\n",
              "      <button class=\"colab-df-quickchart\" onclick=\"quickchart('df-82942315-2410-4999-97b6-eef29d845346')\"\n",
              "                title=\"Suggest charts\"\n",
              "                style=\"display:none;\">\n",
              "\n",
              "<svg xmlns=\"http://www.w3.org/2000/svg\" height=\"24px\"viewBox=\"0 0 24 24\"\n",
              "     width=\"24px\">\n",
              "    <g>\n",
              "        <path d=\"M19 3H5c-1.1 0-2 .9-2 2v14c0 1.1.9 2 2 2h14c1.1 0 2-.9 2-2V5c0-1.1-.9-2-2-2zM9 17H7v-7h2v7zm4 0h-2V7h2v10zm4 0h-2v-4h2v4z\"/>\n",
              "    </g>\n",
              "</svg>\n",
              "      </button>\n",
              "\n",
              "<style>\n",
              "  .colab-df-quickchart {\n",
              "      --bg-color: #E8F0FE;\n",
              "      --fill-color: #1967D2;\n",
              "      --hover-bg-color: #E2EBFA;\n",
              "      --hover-fill-color: #174EA6;\n",
              "      --disabled-fill-color: #AAA;\n",
              "      --disabled-bg-color: #DDD;\n",
              "  }\n",
              "\n",
              "  [theme=dark] .colab-df-quickchart {\n",
              "      --bg-color: #3B4455;\n",
              "      --fill-color: #D2E3FC;\n",
              "      --hover-bg-color: #434B5C;\n",
              "      --hover-fill-color: #FFFFFF;\n",
              "      --disabled-bg-color: #3B4455;\n",
              "      --disabled-fill-color: #666;\n",
              "  }\n",
              "\n",
              "  .colab-df-quickchart {\n",
              "    background-color: var(--bg-color);\n",
              "    border: none;\n",
              "    border-radius: 50%;\n",
              "    cursor: pointer;\n",
              "    display: none;\n",
              "    fill: var(--fill-color);\n",
              "    height: 32px;\n",
              "    padding: 0;\n",
              "    width: 32px;\n",
              "  }\n",
              "\n",
              "  .colab-df-quickchart:hover {\n",
              "    background-color: var(--hover-bg-color);\n",
              "    box-shadow: 0 1px 2px rgba(60, 64, 67, 0.3), 0 1px 3px 1px rgba(60, 64, 67, 0.15);\n",
              "    fill: var(--button-hover-fill-color);\n",
              "  }\n",
              "\n",
              "  .colab-df-quickchart-complete:disabled,\n",
              "  .colab-df-quickchart-complete:disabled:hover {\n",
              "    background-color: var(--disabled-bg-color);\n",
              "    fill: var(--disabled-fill-color);\n",
              "    box-shadow: none;\n",
              "  }\n",
              "\n",
              "  .colab-df-spinner {\n",
              "    border: 2px solid var(--fill-color);\n",
              "    border-color: transparent;\n",
              "    border-bottom-color: var(--fill-color);\n",
              "    animation:\n",
              "      spin 1s steps(1) infinite;\n",
              "  }\n",
              "\n",
              "  @keyframes spin {\n",
              "    0% {\n",
              "      border-color: transparent;\n",
              "      border-bottom-color: var(--fill-color);\n",
              "      border-left-color: var(--fill-color);\n",
              "    }\n",
              "    20% {\n",
              "      border-color: transparent;\n",
              "      border-left-color: var(--fill-color);\n",
              "      border-top-color: var(--fill-color);\n",
              "    }\n",
              "    30% {\n",
              "      border-color: transparent;\n",
              "      border-left-color: var(--fill-color);\n",
              "      border-top-color: var(--fill-color);\n",
              "      border-right-color: var(--fill-color);\n",
              "    }\n",
              "    40% {\n",
              "      border-color: transparent;\n",
              "      border-right-color: var(--fill-color);\n",
              "      border-top-color: var(--fill-color);\n",
              "    }\n",
              "    60% {\n",
              "      border-color: transparent;\n",
              "      border-right-color: var(--fill-color);\n",
              "    }\n",
              "    80% {\n",
              "      border-color: transparent;\n",
              "      border-right-color: var(--fill-color);\n",
              "      border-bottom-color: var(--fill-color);\n",
              "    }\n",
              "    90% {\n",
              "      border-color: transparent;\n",
              "      border-bottom-color: var(--fill-color);\n",
              "    }\n",
              "  }\n",
              "</style>\n",
              "\n",
              "      <script>\n",
              "        async function quickchart(key) {\n",
              "          const quickchartButtonEl =\n",
              "            document.querySelector('#' + key + ' button');\n",
              "          quickchartButtonEl.disabled = true;  // To prevent multiple clicks.\n",
              "          quickchartButtonEl.classList.add('colab-df-spinner');\n",
              "          try {\n",
              "            const charts = await google.colab.kernel.invokeFunction(\n",
              "                'suggestCharts', [key], {});\n",
              "          } catch (error) {\n",
              "            console.error('Error during call to suggestCharts:', error);\n",
              "          }\n",
              "          quickchartButtonEl.classList.remove('colab-df-spinner');\n",
              "          quickchartButtonEl.classList.add('colab-df-quickchart-complete');\n",
              "        }\n",
              "        (() => {\n",
              "          let quickchartButtonEl =\n",
              "            document.querySelector('#df-82942315-2410-4999-97b6-eef29d845346 button');\n",
              "          quickchartButtonEl.style.display =\n",
              "            google.colab.kernel.accessAllowed ? 'block' : 'none';\n",
              "        })();\n",
              "      </script>\n",
              "    </div>\n",
              "\n",
              "    </div>\n",
              "  </div>\n"
            ],
            "application/vnd.google.colaboratory.intrinsic+json": {
              "type": "dataframe"
            }
          },
          "metadata": {},
          "execution_count": 56
        }
      ]
    },
    {
      "cell_type": "code",
      "source": [
        "df.shape\n",
        "#confirmamos que tiene 7267 registros y 22 columnas"
      ],
      "metadata": {
        "colab": {
          "base_uri": "https://localhost:8080/"
        },
        "id": "OQ8PEfrHbV4X",
        "outputId": "f9d2da97-f643-41e7-e9e4-8efad4f677f7"
      },
      "execution_count": null,
      "outputs": [
        {
          "output_type": "execute_result",
          "data": {
            "text/plain": [
              "(7267, 21)"
            ]
          },
          "metadata": {},
          "execution_count": 57
        }
      ]
    },
    {
      "cell_type": "markdown",
      "source": [
        "#**Exploracion de datos**"
      ],
      "metadata": {
        "id": "670RU_uK9Vev"
      }
    },
    {
      "cell_type": "markdown",
      "source": [
        "¿Qué debes hacer?\n",
        "\n",
        "✅ Explorar las columnas del dataset y verificar sus tipos de datos.\n",
        "\n",
        "✅ Consultar el diccionario para comprender mejor el significado de las variables.\n",
        "\n",
        "✅ Identificar las columnas más relevantes para el análisis de evasión."
      ],
      "metadata": {
        "id": "En8xDjpO8dWJ"
      }
    },
    {
      "cell_type": "markdown",
      "source": [
        "Explorar las columnas del dataset y verificar sus tipos de datos."
      ],
      "metadata": {
        "id": "4Gqa0jsOlGPc"
      }
    },
    {
      "cell_type": "code",
      "source": [
        "df.info()"
      ],
      "metadata": {
        "colab": {
          "base_uri": "https://localhost:8080/"
        },
        "id": "IrNe3Fg1zruW",
        "outputId": "c1f18032-e5f1-4980-a61d-40d6c6135de6"
      },
      "execution_count": null,
      "outputs": [
        {
          "output_type": "stream",
          "name": "stdout",
          "text": [
            "<class 'pandas.core.frame.DataFrame'>\n",
            "RangeIndex: 7267 entries, 0 to 7266\n",
            "Data columns (total 21 columns):\n",
            " #   Column            Non-Null Count  Dtype  \n",
            "---  ------            --------------  -----  \n",
            " 0   customerID        7267 non-null   object \n",
            " 1   Churn             7267 non-null   object \n",
            " 2   gender            7267 non-null   object \n",
            " 3   SeniorCitizen     7267 non-null   int64  \n",
            " 4   Partner           7267 non-null   object \n",
            " 5   Dependents        7267 non-null   object \n",
            " 6   tenure            7267 non-null   int64  \n",
            " 7   PhoneService      7267 non-null   object \n",
            " 8   MultipleLines     7267 non-null   object \n",
            " 9   InternetService   7267 non-null   object \n",
            " 10  OnlineSecurity    7267 non-null   object \n",
            " 11  OnlineBackup      7267 non-null   object \n",
            " 12  DeviceProtection  7267 non-null   object \n",
            " 13  TechSupport       7267 non-null   object \n",
            " 14  StreamingTV       7267 non-null   object \n",
            " 15  StreamingMovies   7267 non-null   object \n",
            " 16  Contract          7267 non-null   object \n",
            " 17  PaperlessBilling  7267 non-null   object \n",
            " 18  PaymentMethod     7267 non-null   object \n",
            " 19  Charges.Monthly   7267 non-null   float64\n",
            " 20  Charges.Total     7267 non-null   object \n",
            "dtypes: float64(1), int64(2), object(18)\n",
            "memory usage: 1.2+ MB\n"
          ]
        }
      ]
    },
    {
      "cell_type": "markdown",
      "source": [
        "**Diccionario de datos**\n",
        "\n",
        "**customerID:** número de identificación único de cada cliente\n",
        "\n",
        "**Churn:** si el cliente dejó o no la empresa\n",
        "\n",
        "**gender:** género (masculino y femenino)\n",
        "\n",
        "**SeniorCitizen:** información sobre si un cliente tiene o no una edad igual o mayor a 65 años\n",
        "\n",
        "**Partner:** si el cliente tiene o no una pareja\n",
        "\n",
        "**Dependents:** si el cliente tiene o no dependientes\n",
        "\n",
        "**tenure:** meses de contrato del cliente\n",
        "\n",
        "**PhoneService:** suscripción al servicio telefónico\n",
        "\n",
        "**MultipleLines:** suscripción a más de una línea telefónica\n",
        "\n",
        "**InternetService:** suscripción a un proveedor de internet\n",
        "\n",
        "**OnlineSecurity:** suscripción adicional de seguridad en línea\n",
        "\n",
        "**OnlineBackup:** suscripción adicional de respaldo en línea\n",
        "\n",
        "**DeviceProtection:** suscripción adicional de protección del dispositivo\n",
        "\n",
        "**TechSupport:** suscripción adicional de soporte técnico, menor tiempo de espera\n",
        "\n",
        "**StreamingTV:** suscripción de televisión por cable\n",
        "\n",
        "**StreamingMovies:** suscripción de streaming de películas\n",
        "\n",
        "**Contract:** tipo de contrato\n",
        "\n",
        "**PaperlessBilling:** si el cliente prefiere recibir la factura en línea\n",
        "\n",
        "**PaymentMethod:** forma de pago\n",
        "\n",
        "**Charges.Monthly:** total de todos los servicios del cliente por mes\n",
        "\n",
        "**Charges.Total:** total gastado por el cliente"
      ],
      "metadata": {
        "id": "-cEhqdHN8qEY"
      }
    },
    {
      "cell_type": "markdown",
      "source": [
        "##**Columnas a evaluar para el analisis solicitado**"
      ],
      "metadata": {
        "id": "DlBtA7aCBeb9"
      }
    },
    {
      "cell_type": "markdown",
      "source": [
        "\n",
        "Basado en el diccionario de datos proporcionado y la exploración inicial del DataFrame, las variables que potencialmente influyen en la decisión del cliente de dejar la empresa (Churn) son:\n",
        "\n",
        "**Características del cliente:**\n",
        "\n",
        "gender: Podría haber diferencias en la tasa de churn entre hombres y mujeres\n",
        "\n",
        "SeniorCitizen: Los clientes mayores de 65 años podrían tener diferentes necesidades o lealtad a la empresa.\n",
        "\n",
        "Partner: Los clientes con pareja podrían tener un comportamiento de churn diferente a los solteros.\n",
        "\n",
        "**Información del contrato y servicios:**\n",
        "\n",
        "tenure: El tiempo que un cliente ha estado con la empresa es un indicador clave; los clientes con menos antigüedad pueden ser más propensos a abandonar.\n",
        "\n",
        "PhoneService: Si tener o no servicio telefónico influye en la decisión de irse.\n",
        "\n",
        "MultipleLines: La cantidad de líneas telefónicas podría ser relevante.\n",
        "\n",
        "InternetService: El tipo de servicio de internet (fibra óptica, DSL, etc.) y la calidad percibida pueden ser factores importantes.\n",
        "\n",
        "OnlineSecurity: La percepción de seguridad en línea puede ser crucial.\n",
        "\n",
        "OnlineBackup: La disponibilidad de respaldo en línea podría ser valorada.\n",
        "\n",
        "DeviceProtection: La protección del dispositivo podría ser un factor de retención.\n",
        "\n",
        "TechSupport: El acceso a soporte técnico de calidad es un factor importante en la satisfacción del cliente.\n",
        "\n",
        "StreamingTV: La suscripción a servicios de streaming de televisión podría estar relacionada con la lealtad.\n",
        "\n",
        "StreamingMovies: La suscripción a servicios de streaming de películas también podría ser un factor.\n",
        "\n",
        "Contract: El tipo de contrato (mensual, anual, bianual) es un predictor muy fuerte de churn, ya que los contratos a largo plazo implican mayor compromiso.\n",
        "\n",
        "PaperlessBilling: La preferencia por facturación en línea o en papel podría tener alguna correlación.\n",
        "\n",
        "PaymentMethod: La forma en que el cliente paga podría estar relacionada con la comodidad y la probabilidad de churn.\n",
        "\n",
        "**Información de cargos:**\n",
        "\n",
        "Charges.Monthly: El monto total de los cargos mensuales es un indicador directo del costo del servicio para el cliente.\n",
        "\n",
        "Charges.Total: El gasto total a lo largo del tiempo también es relevante, especialmente en relación con la antigüedad del cliente.\n",
        "\n",
        "\n"
      ],
      "metadata": {
        "id": "VEBKLK52nJ5n"
      }
    },
    {
      "cell_type": "markdown",
      "source": [
        "Comprobación de incoherencias en los datos"
      ],
      "metadata": {
        "id": "nBLbg75CVN2w"
      }
    },
    {
      "cell_type": "markdown",
      "source": [
        "En este paso, verifica si hay problemas en los datos que puedan afectar el análisis. Presta atención a valores ausentes, duplicados, errores de formato e inconsistencias en las categorías. Este proceso es esencial para asegurarte de que los datos estén listos para las siguientes etapas."
      ],
      "metadata": {
        "id": "-xCWvHkXVRvo"
      }
    },
    {
      "cell_type": "code",
      "source": [
        "#valores nulos\n",
        "print(\"Valores nulos por columna:\")\n",
        "print(df.isnull().sum())"
      ],
      "metadata": {
        "id": "Rt7Ul4yp27_e",
        "colab": {
          "base_uri": "https://localhost:8080/"
        },
        "outputId": "a94e60e0-d513-41f6-9a88-055e7dd36fa6"
      },
      "execution_count": null,
      "outputs": [
        {
          "output_type": "stream",
          "name": "stdout",
          "text": [
            "Valores nulos por columna:\n",
            "customerID          0\n",
            "Churn               0\n",
            "gender              0\n",
            "SeniorCitizen       0\n",
            "Partner             0\n",
            "Dependents          0\n",
            "tenure              0\n",
            "PhoneService        0\n",
            "MultipleLines       0\n",
            "InternetService     0\n",
            "OnlineSecurity      0\n",
            "OnlineBackup        0\n",
            "DeviceProtection    0\n",
            "TechSupport         0\n",
            "StreamingTV         0\n",
            "StreamingMovies     0\n",
            "Contract            0\n",
            "PaperlessBilling    0\n",
            "PaymentMethod       0\n",
            "Charges.Monthly     0\n",
            "Charges.Total       0\n",
            "dtype: int64\n"
          ]
        }
      ]
    },
    {
      "cell_type": "code",
      "source": [
        "# valores duplicados\n",
        "print(\"Cantidad de valores repetidos:\", df.duplicated().sum())\n"
      ],
      "metadata": {
        "colab": {
          "base_uri": "https://localhost:8080/"
        },
        "id": "oI-FQx9PYsNw",
        "outputId": "6da4fbcd-c41c-4cc3-f71b-177e52fa5677"
      },
      "execution_count": null,
      "outputs": [
        {
          "output_type": "stream",
          "name": "stdout",
          "text": [
            "Cantidad de valores repetidos: 0\n"
          ]
        }
      ]
    },
    {
      "cell_type": "markdown",
      "source": [
        "##Limpieza de datos\n",
        "\n",
        "Ahora que has identificado las inconsistencias, es momento de aplicar las correcciones necesarias. Ajusta los datos para asegurarte de que estén completos y coherentes, preparándolos para las siguientes etapas del análisis."
      ],
      "metadata": {
        "id": "7RO5P39Paf6t"
      }
    },
    {
      "cell_type": "code",
      "source": [
        "#observamos que la columna 'Charges.Total' posee 11 registros vacios\n",
        "(df['Charges.Total'].str.strip() == '').sum()\n"
      ],
      "metadata": {
        "colab": {
          "base_uri": "https://localhost:8080/"
        },
        "id": "h_If25ZXUkUO",
        "outputId": "743346de-e73e-4194-ccff-066ced8c1e13"
      },
      "execution_count": null,
      "outputs": [
        {
          "output_type": "execute_result",
          "data": {
            "text/plain": [
              "np.int64(11)"
            ]
          },
          "metadata": {},
          "execution_count": 61
        }
      ]
    },
    {
      "cell_type": "code",
      "source": [
        "#tenemos 7267 filas y algunas contienen espacios en blanco\n",
        "df.shape"
      ],
      "metadata": {
        "id": "D1ppHU8Ksnfj",
        "colab": {
          "base_uri": "https://localhost:8080/"
        },
        "outputId": "06aec5ed-1114-45f5-8b1e-698092cc728a"
      },
      "execution_count": null,
      "outputs": [
        {
          "output_type": "execute_result",
          "data": {
            "text/plain": [
              "(7267, 21)"
            ]
          },
          "metadata": {},
          "execution_count": 62
        }
      ]
    },
    {
      "cell_type": "code",
      "source": [
        "#eliminamos todos los registros que tienen espacios en blanco ya que es solo el 3% del df total\n",
        "df = df[~(df == ' ').any(axis=1)]\n"
      ],
      "metadata": {
        "id": "WhhsI6MNsowa"
      },
      "execution_count": null,
      "outputs": []
    },
    {
      "cell_type": "code",
      "source": [
        "(df['Charges.Total'].str.strip() == '').sum()"
      ],
      "metadata": {
        "colab": {
          "base_uri": "https://localhost:8080/"
        },
        "id": "-WYjjFQ8jihr",
        "outputId": "79e85e45-07b1-471f-c1f8-0a7ececb4767"
      },
      "execution_count": null,
      "outputs": [
        {
          "output_type": "execute_result",
          "data": {
            "text/plain": [
              "np.int64(0)"
            ]
          },
          "metadata": {},
          "execution_count": 64
        }
      ]
    },
    {
      "cell_type": "code",
      "source": [
        "#confirmamos la elim de los registrso en blanco"
      ],
      "metadata": {
        "id": "JJEdmjBKjz0q"
      },
      "execution_count": null,
      "outputs": []
    },
    {
      "cell_type": "code",
      "source": [
        "df['Charges.Total']= df['Charges.Total'].astype(float) #cambiamos la columna Charges Total a float64"
      ],
      "metadata": {
        "id": "QMisLTcs0hZO",
        "colab": {
          "base_uri": "https://localhost:8080/"
        },
        "outputId": "3aae1fa9-8fe5-4e1a-f1bc-a2fa2d559b6e"
      },
      "execution_count": null,
      "outputs": [
        {
          "output_type": "stream",
          "name": "stderr",
          "text": [
            "<ipython-input-66-ca59518b356e>:1: SettingWithCopyWarning: \n",
            "A value is trying to be set on a copy of a slice from a DataFrame.\n",
            "Try using .loc[row_indexer,col_indexer] = value instead\n",
            "\n",
            "See the caveats in the documentation: https://pandas.pydata.org/pandas-docs/stable/user_guide/indexing.html#returning-a-view-versus-a-copy\n",
            "  df['Charges.Total']= df['Charges.Total'].astype(float) #cambiamos la columna Charges Total a float64\n"
          ]
        }
      ]
    },
    {
      "cell_type": "code",
      "source": [
        "print(df['Charges.Total'].info()) #confirmamos que cambio de object a float64"
      ],
      "metadata": {
        "colab": {
          "base_uri": "https://localhost:8080/"
        },
        "id": "_ssxOIir0rrN",
        "outputId": "17821768-d1b6-4629-ec32-cd8b9c4ebfd0"
      },
      "execution_count": null,
      "outputs": [
        {
          "output_type": "stream",
          "name": "stdout",
          "text": [
            "<class 'pandas.core.series.Series'>\n",
            "Index: 7256 entries, 0 to 7266\n",
            "Series name: Charges.Total\n",
            "Non-Null Count  Dtype  \n",
            "--------------  -----  \n",
            "7256 non-null   float64\n",
            "dtypes: float64(1)\n",
            "memory usage: 113.4 KB\n",
            "None\n"
          ]
        }
      ]
    },
    {
      "cell_type": "code",
      "source": [
        "(df['Churn']== '').sum()   #Churm posee 224 registros vacios"
      ],
      "metadata": {
        "colab": {
          "base_uri": "https://localhost:8080/"
        },
        "id": "SVg2MMr4DAQL",
        "outputId": "e8ae1e67-1a8d-4829-8690-eabb7faaf33f"
      },
      "execution_count": null,
      "outputs": [
        {
          "output_type": "execute_result",
          "data": {
            "text/plain": [
              "np.int64(224)"
            ]
          },
          "metadata": {},
          "execution_count": 68
        }
      ]
    },
    {
      "cell_type": "code",
      "source": [
        "# tomamos la decicion de eliminar los registros vacios ya que solo represneta en 3% de los datos recibidos\n",
        "df = df[~(df.applymap(lambda x: isinstance(x, str) and x.strip() == '')).any(axis=1)]"
      ],
      "metadata": {
        "colab": {
          "base_uri": "https://localhost:8080/"
        },
        "id": "SY-amIMTDIpl",
        "outputId": "7a9c8340-e4c5-4bb4-9930-d8495d1bcecd"
      },
      "execution_count": null,
      "outputs": [
        {
          "output_type": "stream",
          "name": "stderr",
          "text": [
            "<ipython-input-69-fde87ceab094>:2: FutureWarning: DataFrame.applymap has been deprecated. Use DataFrame.map instead.\n",
            "  df = df[~(df.applymap(lambda x: isinstance(x, str) and x.strip() == '')).any(axis=1)]\n"
          ]
        }
      ]
    },
    {
      "cell_type": "code",
      "source": [
        "#confirmamos que los 224 registrso sin datos fueron eliminados\n",
        "(df['Churn']== '').sum()"
      ],
      "metadata": {
        "colab": {
          "base_uri": "https://localhost:8080/"
        },
        "id": "kHchQ-Y3DSnC",
        "outputId": "eb651a58-36e6-4c5c-d216-415370599ef8"
      },
      "execution_count": null,
      "outputs": [
        {
          "output_type": "execute_result",
          "data": {
            "text/plain": [
              "np.int64(0)"
            ]
          },
          "metadata": {},
          "execution_count": 70
        }
      ]
    },
    {
      "cell_type": "markdown",
      "source": [
        "##Creacion de una nueva columna Cuentas_diarias\n",
        "\n",
        "Ahora que los datos están limpios, es momento de crear la columna \"Cuentas_Diarias\".\n",
        "\n",
        "Utiliza la facturación mensual para calcular el valor diario, proporcionando una visión más detallada del comportamiento de los clientes a lo largo del tiempo.\n",
        "\n",
        "📌 Esta columna te ayudará a profundizar en el análisis y a obtener información valiosa para las siguientes etapas."
      ],
      "metadata": {
        "id": "cMbsZEtzxr-W"
      }
    },
    {
      "cell_type": "code",
      "source": [
        "#Creando la columna que nos brinda la informacion del valor por dia del servicio y lo redondeamos para que solo tenga 2 decimales\n",
        "df['Cuentas_Diarias']= (df['Charges.Monthly']/30).round(2)"
      ],
      "metadata": {
        "id": "EIUpsr6VxWrH",
        "colab": {
          "base_uri": "https://localhost:8080/"
        },
        "outputId": "277636cb-5ab8-464d-d9a3-844550727007"
      },
      "execution_count": null,
      "outputs": [
        {
          "output_type": "stream",
          "name": "stderr",
          "text": [
            "<ipython-input-71-330c2b468833>:2: SettingWithCopyWarning: \n",
            "A value is trying to be set on a copy of a slice from a DataFrame.\n",
            "Try using .loc[row_indexer,col_indexer] = value instead\n",
            "\n",
            "See the caveats in the documentation: https://pandas.pydata.org/pandas-docs/stable/user_guide/indexing.html#returning-a-view-versus-a-copy\n",
            "  df['Cuentas_Diarias']= (df['Charges.Monthly']/30).round(2)\n"
          ]
        }
      ]
    },
    {
      "cell_type": "code",
      "source": [
        "#comfirmamos que se creo la nueva columna Cuentas_Diarias, mostramos datos brindados y que el tipo de datos concuede con el tipo de columna\n",
        "df['Cuentas_Diarias'].sample(3)"
      ],
      "metadata": {
        "colab": {
          "base_uri": "https://localhost:8080/",
          "height": 178
        },
        "id": "mMWQvnALxWnP",
        "outputId": "fa0da430-583e-4304-c3a4-03d62385a4d8"
      },
      "execution_count": null,
      "outputs": [
        {
          "output_type": "execute_result",
          "data": {
            "text/plain": [
              "4567    3.03\n",
              "7196    2.68\n",
              "3583    0.66\n",
              "Name: Cuentas_Diarias, dtype: float64"
            ],
            "text/html": [
              "<div>\n",
              "<style scoped>\n",
              "    .dataframe tbody tr th:only-of-type {\n",
              "        vertical-align: middle;\n",
              "    }\n",
              "\n",
              "    .dataframe tbody tr th {\n",
              "        vertical-align: top;\n",
              "    }\n",
              "\n",
              "    .dataframe thead th {\n",
              "        text-align: right;\n",
              "    }\n",
              "</style>\n",
              "<table border=\"1\" class=\"dataframe\">\n",
              "  <thead>\n",
              "    <tr style=\"text-align: right;\">\n",
              "      <th></th>\n",
              "      <th>Cuentas_Diarias</th>\n",
              "    </tr>\n",
              "  </thead>\n",
              "  <tbody>\n",
              "    <tr>\n",
              "      <th>4567</th>\n",
              "      <td>3.03</td>\n",
              "    </tr>\n",
              "    <tr>\n",
              "      <th>7196</th>\n",
              "      <td>2.68</td>\n",
              "    </tr>\n",
              "    <tr>\n",
              "      <th>3583</th>\n",
              "      <td>0.66</td>\n",
              "    </tr>\n",
              "  </tbody>\n",
              "</table>\n",
              "</div><br><label><b>dtype:</b> float64</label>"
            ]
          },
          "metadata": {},
          "execution_count": 72
        }
      ]
    },
    {
      "cell_type": "markdown",
      "source": [
        "##Estandarizacion\n",
        "convertir valores textuales como \"Sí\" y \"No\" en valores binarios (1 y 0), lo que facilita el procesamiento matemático y la aplicación de modelos analíticos.\n",
        "\n",
        "Además, traducir o renombrar columnas y datos hace que la información sea más accesible y fácil de entender, especialmente cuando se trabaja con fuentes externas o términos técnicos. Aunque no es un paso obligatorio, puede mejorar significativamente la claridad y comunicación de los resultados, facilitando la interpretación y evitando confusiones, especialmente al compartir información con stakeholders no técnicos."
      ],
      "metadata": {
        "id": "zl5-PH090y0X"
      }
    },
    {
      "cell_type": "code",
      "source": [
        "df.columns"
      ],
      "metadata": {
        "colab": {
          "base_uri": "https://localhost:8080/"
        },
        "id": "pE1JzVZLxWkA",
        "outputId": "b37a4c1b-0c8a-46a1-e23c-4a4e26100639"
      },
      "execution_count": null,
      "outputs": [
        {
          "output_type": "execute_result",
          "data": {
            "text/plain": [
              "Index(['customerID', 'Churn', 'gender', 'SeniorCitizen', 'Partner',\n",
              "       'Dependents', 'tenure', 'PhoneService', 'MultipleLines',\n",
              "       'InternetService', 'OnlineSecurity', 'OnlineBackup', 'DeviceProtection',\n",
              "       'TechSupport', 'StreamingTV', 'StreamingMovies', 'Contract',\n",
              "       'PaperlessBilling', 'PaymentMethod', 'Charges.Monthly', 'Charges.Total',\n",
              "       'Cuentas_Diarias'],\n",
              "      dtype='object')"
            ]
          },
          "metadata": {},
          "execution_count": 73
        }
      ]
    },
    {
      "cell_type": "markdown",
      "source": [
        "reemplazamos en la columna SeniorCitizen y Partner, el no por 0 y el si por 1"
      ],
      "metadata": {
        "id": "EgoXjLLt3dr5"
      }
    },
    {
      "cell_type": "code",
      "source": [
        "#df['Churn']= df['Churn'].replace({'Yes':1,'No':0 })"
      ],
      "metadata": {
        "id": "hUhXd5x3xWg_"
      },
      "execution_count": null,
      "outputs": []
    },
    {
      "cell_type": "code",
      "source": [
        "df['SeniorCitizen'] =df['SeniorCitizen'].astype('object')"
      ],
      "metadata": {
        "id": "-W87xYZ92c67",
        "colab": {
          "base_uri": "https://localhost:8080/"
        },
        "outputId": "ac05ca7c-e7d6-4c5f-8792-475a7cbb7c28"
      },
      "execution_count": null,
      "outputs": [
        {
          "output_type": "stream",
          "name": "stderr",
          "text": [
            "<ipython-input-75-72bf361ff7fa>:1: SettingWithCopyWarning: \n",
            "A value is trying to be set on a copy of a slice from a DataFrame.\n",
            "Try using .loc[row_indexer,col_indexer] = value instead\n",
            "\n",
            "See the caveats in the documentation: https://pandas.pydata.org/pandas-docs/stable/user_guide/indexing.html#returning-a-view-versus-a-copy\n",
            "  df['SeniorCitizen'] =df['SeniorCitizen'].astype('object')\n"
          ]
        }
      ]
    },
    {
      "cell_type": "code",
      "source": [
        "df.info()"
      ],
      "metadata": {
        "colab": {
          "base_uri": "https://localhost:8080/"
        },
        "id": "h2ICNTuk7Ng6",
        "outputId": "5e07dbac-dba6-403d-d1c3-cdb2783027d8"
      },
      "execution_count": null,
      "outputs": [
        {
          "output_type": "stream",
          "name": "stdout",
          "text": [
            "<class 'pandas.core.frame.DataFrame'>\n",
            "Index: 7032 entries, 0 to 7266\n",
            "Data columns (total 22 columns):\n",
            " #   Column            Non-Null Count  Dtype  \n",
            "---  ------            --------------  -----  \n",
            " 0   customerID        7032 non-null   object \n",
            " 1   Churn             7032 non-null   object \n",
            " 2   gender            7032 non-null   object \n",
            " 3   SeniorCitizen     7032 non-null   object \n",
            " 4   Partner           7032 non-null   object \n",
            " 5   Dependents        7032 non-null   object \n",
            " 6   tenure            7032 non-null   int64  \n",
            " 7   PhoneService      7032 non-null   object \n",
            " 8   MultipleLines     7032 non-null   object \n",
            " 9   InternetService   7032 non-null   object \n",
            " 10  OnlineSecurity    7032 non-null   object \n",
            " 11  OnlineBackup      7032 non-null   object \n",
            " 12  DeviceProtection  7032 non-null   object \n",
            " 13  TechSupport       7032 non-null   object \n",
            " 14  StreamingTV       7032 non-null   object \n",
            " 15  StreamingMovies   7032 non-null   object \n",
            " 16  Contract          7032 non-null   object \n",
            " 17  PaperlessBilling  7032 non-null   object \n",
            " 18  PaymentMethod     7032 non-null   object \n",
            " 19  Charges.Monthly   7032 non-null   float64\n",
            " 20  Charges.Total     7032 non-null   float64\n",
            " 21  Cuentas_Diarias   7032 non-null   float64\n",
            "dtypes: float64(3), int64(1), object(18)\n",
            "memory usage: 1.2+ MB\n"
          ]
        }
      ]
    },
    {
      "cell_type": "code",
      "source": [
        "df.sample(3)"
      ],
      "metadata": {
        "id": "PUa7YJSWxWdf",
        "colab": {
          "base_uri": "https://localhost:8080/",
          "height": 245
        },
        "outputId": "5d440828-82d9-440c-82ed-98520efa0e5c"
      },
      "execution_count": null,
      "outputs": [
        {
          "output_type": "execute_result",
          "data": {
            "text/plain": [
              "      customerID Churn  gender SeniorCitizen Partner Dependents  tenure  \\\n",
              "1245  1777-JYQPJ    No    Male             0      No         No       2   \n",
              "3505  4829-ZLJTK    No  Female             1     Yes         No      72   \n",
              "6087  8317-BVKSO    No    Male             0      No         No      14   \n",
              "\n",
              "     PhoneService     MultipleLines InternetService  ...     DeviceProtection  \\\n",
              "1245           No  No phone service             DSL  ...                   No   \n",
              "3505          Yes               Yes     Fiber optic  ...                  Yes   \n",
              "6087          Yes                No              No  ...  No internet service   \n",
              "\n",
              "              TechSupport          StreamingTV      StreamingMovies  \\\n",
              "1245                   No                   No                   No   \n",
              "3505                   No                  Yes                  Yes   \n",
              "6087  No internet service  No internet service  No internet service   \n",
              "\n",
              "            Contract PaperlessBilling     PaymentMethod Charges.Monthly  \\\n",
              "1245  Month-to-month               No      Mailed check           24.30   \n",
              "3505        Two year              Yes  Electronic check          112.40   \n",
              "6087  Month-to-month              Yes  Electronic check           20.05   \n",
              "\n",
              "     Charges.Total  Cuentas_Diarias  \n",
              "1245         38.45             0.81  \n",
              "3505       8046.85             3.75  \n",
              "6087        299.30             0.67  \n",
              "\n",
              "[3 rows x 22 columns]"
            ],
            "text/html": [
              "\n",
              "  <div id=\"df-02d15d56-cc4d-441e-9ec6-755854c931a8\" class=\"colab-df-container\">\n",
              "    <div>\n",
              "<style scoped>\n",
              "    .dataframe tbody tr th:only-of-type {\n",
              "        vertical-align: middle;\n",
              "    }\n",
              "\n",
              "    .dataframe tbody tr th {\n",
              "        vertical-align: top;\n",
              "    }\n",
              "\n",
              "    .dataframe thead th {\n",
              "        text-align: right;\n",
              "    }\n",
              "</style>\n",
              "<table border=\"1\" class=\"dataframe\">\n",
              "  <thead>\n",
              "    <tr style=\"text-align: right;\">\n",
              "      <th></th>\n",
              "      <th>customerID</th>\n",
              "      <th>Churn</th>\n",
              "      <th>gender</th>\n",
              "      <th>SeniorCitizen</th>\n",
              "      <th>Partner</th>\n",
              "      <th>Dependents</th>\n",
              "      <th>tenure</th>\n",
              "      <th>PhoneService</th>\n",
              "      <th>MultipleLines</th>\n",
              "      <th>InternetService</th>\n",
              "      <th>...</th>\n",
              "      <th>DeviceProtection</th>\n",
              "      <th>TechSupport</th>\n",
              "      <th>StreamingTV</th>\n",
              "      <th>StreamingMovies</th>\n",
              "      <th>Contract</th>\n",
              "      <th>PaperlessBilling</th>\n",
              "      <th>PaymentMethod</th>\n",
              "      <th>Charges.Monthly</th>\n",
              "      <th>Charges.Total</th>\n",
              "      <th>Cuentas_Diarias</th>\n",
              "    </tr>\n",
              "  </thead>\n",
              "  <tbody>\n",
              "    <tr>\n",
              "      <th>1245</th>\n",
              "      <td>1777-JYQPJ</td>\n",
              "      <td>No</td>\n",
              "      <td>Male</td>\n",
              "      <td>0</td>\n",
              "      <td>No</td>\n",
              "      <td>No</td>\n",
              "      <td>2</td>\n",
              "      <td>No</td>\n",
              "      <td>No phone service</td>\n",
              "      <td>DSL</td>\n",
              "      <td>...</td>\n",
              "      <td>No</td>\n",
              "      <td>No</td>\n",
              "      <td>No</td>\n",
              "      <td>No</td>\n",
              "      <td>Month-to-month</td>\n",
              "      <td>No</td>\n",
              "      <td>Mailed check</td>\n",
              "      <td>24.30</td>\n",
              "      <td>38.45</td>\n",
              "      <td>0.81</td>\n",
              "    </tr>\n",
              "    <tr>\n",
              "      <th>3505</th>\n",
              "      <td>4829-ZLJTK</td>\n",
              "      <td>No</td>\n",
              "      <td>Female</td>\n",
              "      <td>1</td>\n",
              "      <td>Yes</td>\n",
              "      <td>No</td>\n",
              "      <td>72</td>\n",
              "      <td>Yes</td>\n",
              "      <td>Yes</td>\n",
              "      <td>Fiber optic</td>\n",
              "      <td>...</td>\n",
              "      <td>Yes</td>\n",
              "      <td>No</td>\n",
              "      <td>Yes</td>\n",
              "      <td>Yes</td>\n",
              "      <td>Two year</td>\n",
              "      <td>Yes</td>\n",
              "      <td>Electronic check</td>\n",
              "      <td>112.40</td>\n",
              "      <td>8046.85</td>\n",
              "      <td>3.75</td>\n",
              "    </tr>\n",
              "    <tr>\n",
              "      <th>6087</th>\n",
              "      <td>8317-BVKSO</td>\n",
              "      <td>No</td>\n",
              "      <td>Male</td>\n",
              "      <td>0</td>\n",
              "      <td>No</td>\n",
              "      <td>No</td>\n",
              "      <td>14</td>\n",
              "      <td>Yes</td>\n",
              "      <td>No</td>\n",
              "      <td>No</td>\n",
              "      <td>...</td>\n",
              "      <td>No internet service</td>\n",
              "      <td>No internet service</td>\n",
              "      <td>No internet service</td>\n",
              "      <td>No internet service</td>\n",
              "      <td>Month-to-month</td>\n",
              "      <td>Yes</td>\n",
              "      <td>Electronic check</td>\n",
              "      <td>20.05</td>\n",
              "      <td>299.30</td>\n",
              "      <td>0.67</td>\n",
              "    </tr>\n",
              "  </tbody>\n",
              "</table>\n",
              "<p>3 rows × 22 columns</p>\n",
              "</div>\n",
              "    <div class=\"colab-df-buttons\">\n",
              "\n",
              "  <div class=\"colab-df-container\">\n",
              "    <button class=\"colab-df-convert\" onclick=\"convertToInteractive('df-02d15d56-cc4d-441e-9ec6-755854c931a8')\"\n",
              "            title=\"Convert this dataframe to an interactive table.\"\n",
              "            style=\"display:none;\">\n",
              "\n",
              "  <svg xmlns=\"http://www.w3.org/2000/svg\" height=\"24px\" viewBox=\"0 -960 960 960\">\n",
              "    <path d=\"M120-120v-720h720v720H120Zm60-500h600v-160H180v160Zm220 220h160v-160H400v160Zm0 220h160v-160H400v160ZM180-400h160v-160H180v160Zm440 0h160v-160H620v160ZM180-180h160v-160H180v160Zm440 0h160v-160H620v160Z\"/>\n",
              "  </svg>\n",
              "    </button>\n",
              "\n",
              "  <style>\n",
              "    .colab-df-container {\n",
              "      display:flex;\n",
              "      gap: 12px;\n",
              "    }\n",
              "\n",
              "    .colab-df-convert {\n",
              "      background-color: #E8F0FE;\n",
              "      border: none;\n",
              "      border-radius: 50%;\n",
              "      cursor: pointer;\n",
              "      display: none;\n",
              "      fill: #1967D2;\n",
              "      height: 32px;\n",
              "      padding: 0 0 0 0;\n",
              "      width: 32px;\n",
              "    }\n",
              "\n",
              "    .colab-df-convert:hover {\n",
              "      background-color: #E2EBFA;\n",
              "      box-shadow: 0px 1px 2px rgba(60, 64, 67, 0.3), 0px 1px 3px 1px rgba(60, 64, 67, 0.15);\n",
              "      fill: #174EA6;\n",
              "    }\n",
              "\n",
              "    .colab-df-buttons div {\n",
              "      margin-bottom: 4px;\n",
              "    }\n",
              "\n",
              "    [theme=dark] .colab-df-convert {\n",
              "      background-color: #3B4455;\n",
              "      fill: #D2E3FC;\n",
              "    }\n",
              "\n",
              "    [theme=dark] .colab-df-convert:hover {\n",
              "      background-color: #434B5C;\n",
              "      box-shadow: 0px 1px 3px 1px rgba(0, 0, 0, 0.15);\n",
              "      filter: drop-shadow(0px 1px 2px rgba(0, 0, 0, 0.3));\n",
              "      fill: #FFFFFF;\n",
              "    }\n",
              "  </style>\n",
              "\n",
              "    <script>\n",
              "      const buttonEl =\n",
              "        document.querySelector('#df-02d15d56-cc4d-441e-9ec6-755854c931a8 button.colab-df-convert');\n",
              "      buttonEl.style.display =\n",
              "        google.colab.kernel.accessAllowed ? 'block' : 'none';\n",
              "\n",
              "      async function convertToInteractive(key) {\n",
              "        const element = document.querySelector('#df-02d15d56-cc4d-441e-9ec6-755854c931a8');\n",
              "        const dataTable =\n",
              "          await google.colab.kernel.invokeFunction('convertToInteractive',\n",
              "                                                    [key], {});\n",
              "        if (!dataTable) return;\n",
              "\n",
              "        const docLinkHtml = 'Like what you see? Visit the ' +\n",
              "          '<a target=\"_blank\" href=https://colab.research.google.com/notebooks/data_table.ipynb>data table notebook</a>'\n",
              "          + ' to learn more about interactive tables.';\n",
              "        element.innerHTML = '';\n",
              "        dataTable['output_type'] = 'display_data';\n",
              "        await google.colab.output.renderOutput(dataTable, element);\n",
              "        const docLink = document.createElement('div');\n",
              "        docLink.innerHTML = docLinkHtml;\n",
              "        element.appendChild(docLink);\n",
              "      }\n",
              "    </script>\n",
              "  </div>\n",
              "\n",
              "\n",
              "    <div id=\"df-a602c09d-4d2b-4a97-a818-9cb2e0294505\">\n",
              "      <button class=\"colab-df-quickchart\" onclick=\"quickchart('df-a602c09d-4d2b-4a97-a818-9cb2e0294505')\"\n",
              "                title=\"Suggest charts\"\n",
              "                style=\"display:none;\">\n",
              "\n",
              "<svg xmlns=\"http://www.w3.org/2000/svg\" height=\"24px\"viewBox=\"0 0 24 24\"\n",
              "     width=\"24px\">\n",
              "    <g>\n",
              "        <path d=\"M19 3H5c-1.1 0-2 .9-2 2v14c0 1.1.9 2 2 2h14c1.1 0 2-.9 2-2V5c0-1.1-.9-2-2-2zM9 17H7v-7h2v7zm4 0h-2V7h2v10zm4 0h-2v-4h2v4z\"/>\n",
              "    </g>\n",
              "</svg>\n",
              "      </button>\n",
              "\n",
              "<style>\n",
              "  .colab-df-quickchart {\n",
              "      --bg-color: #E8F0FE;\n",
              "      --fill-color: #1967D2;\n",
              "      --hover-bg-color: #E2EBFA;\n",
              "      --hover-fill-color: #174EA6;\n",
              "      --disabled-fill-color: #AAA;\n",
              "      --disabled-bg-color: #DDD;\n",
              "  }\n",
              "\n",
              "  [theme=dark] .colab-df-quickchart {\n",
              "      --bg-color: #3B4455;\n",
              "      --fill-color: #D2E3FC;\n",
              "      --hover-bg-color: #434B5C;\n",
              "      --hover-fill-color: #FFFFFF;\n",
              "      --disabled-bg-color: #3B4455;\n",
              "      --disabled-fill-color: #666;\n",
              "  }\n",
              "\n",
              "  .colab-df-quickchart {\n",
              "    background-color: var(--bg-color);\n",
              "    border: none;\n",
              "    border-radius: 50%;\n",
              "    cursor: pointer;\n",
              "    display: none;\n",
              "    fill: var(--fill-color);\n",
              "    height: 32px;\n",
              "    padding: 0;\n",
              "    width: 32px;\n",
              "  }\n",
              "\n",
              "  .colab-df-quickchart:hover {\n",
              "    background-color: var(--hover-bg-color);\n",
              "    box-shadow: 0 1px 2px rgba(60, 64, 67, 0.3), 0 1px 3px 1px rgba(60, 64, 67, 0.15);\n",
              "    fill: var(--button-hover-fill-color);\n",
              "  }\n",
              "\n",
              "  .colab-df-quickchart-complete:disabled,\n",
              "  .colab-df-quickchart-complete:disabled:hover {\n",
              "    background-color: var(--disabled-bg-color);\n",
              "    fill: var(--disabled-fill-color);\n",
              "    box-shadow: none;\n",
              "  }\n",
              "\n",
              "  .colab-df-spinner {\n",
              "    border: 2px solid var(--fill-color);\n",
              "    border-color: transparent;\n",
              "    border-bottom-color: var(--fill-color);\n",
              "    animation:\n",
              "      spin 1s steps(1) infinite;\n",
              "  }\n",
              "\n",
              "  @keyframes spin {\n",
              "    0% {\n",
              "      border-color: transparent;\n",
              "      border-bottom-color: var(--fill-color);\n",
              "      border-left-color: var(--fill-color);\n",
              "    }\n",
              "    20% {\n",
              "      border-color: transparent;\n",
              "      border-left-color: var(--fill-color);\n",
              "      border-top-color: var(--fill-color);\n",
              "    }\n",
              "    30% {\n",
              "      border-color: transparent;\n",
              "      border-left-color: var(--fill-color);\n",
              "      border-top-color: var(--fill-color);\n",
              "      border-right-color: var(--fill-color);\n",
              "    }\n",
              "    40% {\n",
              "      border-color: transparent;\n",
              "      border-right-color: var(--fill-color);\n",
              "      border-top-color: var(--fill-color);\n",
              "    }\n",
              "    60% {\n",
              "      border-color: transparent;\n",
              "      border-right-color: var(--fill-color);\n",
              "    }\n",
              "    80% {\n",
              "      border-color: transparent;\n",
              "      border-right-color: var(--fill-color);\n",
              "      border-bottom-color: var(--fill-color);\n",
              "    }\n",
              "    90% {\n",
              "      border-color: transparent;\n",
              "      border-bottom-color: var(--fill-color);\n",
              "    }\n",
              "  }\n",
              "</style>\n",
              "\n",
              "      <script>\n",
              "        async function quickchart(key) {\n",
              "          const quickchartButtonEl =\n",
              "            document.querySelector('#' + key + ' button');\n",
              "          quickchartButtonEl.disabled = true;  // To prevent multiple clicks.\n",
              "          quickchartButtonEl.classList.add('colab-df-spinner');\n",
              "          try {\n",
              "            const charts = await google.colab.kernel.invokeFunction(\n",
              "                'suggestCharts', [key], {});\n",
              "          } catch (error) {\n",
              "            console.error('Error during call to suggestCharts:', error);\n",
              "          }\n",
              "          quickchartButtonEl.classList.remove('colab-df-spinner');\n",
              "          quickchartButtonEl.classList.add('colab-df-quickchart-complete');\n",
              "        }\n",
              "        (() => {\n",
              "          let quickchartButtonEl =\n",
              "            document.querySelector('#df-a602c09d-4d2b-4a97-a818-9cb2e0294505 button');\n",
              "          quickchartButtonEl.style.display =\n",
              "            google.colab.kernel.accessAllowed ? 'block' : 'none';\n",
              "        })();\n",
              "      </script>\n",
              "    </div>\n",
              "\n",
              "    </div>\n",
              "  </div>\n"
            ],
            "application/vnd.google.colaboratory.intrinsic+json": {
              "type": "dataframe"
            }
          },
          "metadata": {},
          "execution_count": 77
        }
      ]
    },
    {
      "cell_type": "markdown",
      "source": [
        "asignar nombres mas comprensibles a las columnas"
      ],
      "metadata": {
        "id": "rqSRLH8l52wU"
      }
    },
    {
      "cell_type": "code",
      "source": [
        "df.rename(columns={'Charges.Monthly':'Cuentas_Mensuales','Charges.Total':'Cuentas_Totales', 'Churn':'evasion_clientes','gender':'Genero','PaymentMethod': 'Metodo de pago', 'TechSupport':'Soporte tecnico', 'tenure':'Tiempo en la empresa'},inplace=True)"
      ],
      "metadata": {
        "id": "bx8hZIBS5-0r",
        "colab": {
          "base_uri": "https://localhost:8080/"
        },
        "outputId": "bcd0cca1-0837-42fc-92ad-e4cfa86a5c00"
      },
      "execution_count": null,
      "outputs": [
        {
          "output_type": "stream",
          "name": "stderr",
          "text": [
            "<ipython-input-78-99577e8c3f0c>:1: SettingWithCopyWarning: \n",
            "A value is trying to be set on a copy of a slice from a DataFrame\n",
            "\n",
            "See the caveats in the documentation: https://pandas.pydata.org/pandas-docs/stable/user_guide/indexing.html#returning-a-view-versus-a-copy\n",
            "  df.rename(columns={'Charges.Monthly':'Cuentas_Mensuales','Charges.Total':'Cuentas_Totales', 'Churn':'evasion_clientes','gender':'Genero','PaymentMethod': 'Metodo de pago', 'TechSupport':'Soporte tecnico', 'tenure':'Tiempo en la empresa'},inplace=True)\n"
          ]
        }
      ]
    },
    {
      "cell_type": "code",
      "source": [
        "df.columns"
      ],
      "metadata": {
        "colab": {
          "base_uri": "https://localhost:8080/"
        },
        "id": "XAdoT0tDibm6",
        "outputId": "7fe618f5-37af-4bf1-81a7-ea58834276c4"
      },
      "execution_count": null,
      "outputs": [
        {
          "output_type": "execute_result",
          "data": {
            "text/plain": [
              "Index(['customerID', 'evasion_clientes', 'Genero', 'SeniorCitizen', 'Partner',\n",
              "       'Dependents', 'Tiempo en la empresa', 'PhoneService', 'MultipleLines',\n",
              "       'InternetService', 'OnlineSecurity', 'OnlineBackup', 'DeviceProtection',\n",
              "       'Soporte tecnico', 'StreamingTV', 'StreamingMovies', 'Contract',\n",
              "       'PaperlessBilling', 'Metodo de pago', 'Cuentas_Mensuales',\n",
              "       'Cuentas_Totales', 'Cuentas_Diarias'],\n",
              "      dtype='object')"
            ]
          },
          "metadata": {},
          "execution_count": 90
        }
      ]
    },
    {
      "cell_type": "markdown",
      "source": [
        "##Explorar variables total gastado o tiempo de contrato"
      ],
      "metadata": {
        "id": "SEdLGoHxHrwN"
      }
    },
    {
      "cell_type": "markdown",
      "source": [
        "En este paso, explora cómo las variables numéricas, como \"total gastado\" o \"tiempo de contrato\", se distribuyen entre los clientes que cancelaron (evasión) y los que no cancelaron.\n",
        "\n",
        "Este análisis ayuda a entender si ciertos valores numéricos están más asociados con la evasión, proporcionando insights sobre los factores que influyen en el comportamiento de los clientes."
      ],
      "metadata": {
        "id": "vpUspCnkoYKx"
      }
    },
    {
      "cell_type": "code",
      "source": [
        "# prompt: En este paso, explora cómo las variables numéricas, como \"total gastado\" o \"tiempo de contrato\", se distribuyen entre los clientes que cancelaron (evasión) y los que no cancelaron.\n",
        "\n",
        "import matplotlib.pyplot as plt\n",
        "import seaborn as sns\n",
        "\n",
        "tiempoempresa_cancelaciones=sns.barplot(data=df, y='Tiempo en la empresa', x='evasion_clientes')\n",
        "tiempoempresa_cancelaciones.set_xlabel('Cancelaciones')\n",
        "tiempoempresa_cancelaciones.set_ylabel('Tiempo en la empresa')\n",
        "\n",
        "for container in tiempoempresa_cancelaciones.containers:\n",
        "    labels = [f'{int(round(bar.get_height()))}' for bar in container]\n",
        "    tiempoempresa_cancelaciones.bar_label(container, labels=labels, padding=3)\n",
        "\n",
        "plt.show()\n"
      ],
      "metadata": {
        "id": "PVHXR3PRobAY",
        "colab": {
          "base_uri": "https://localhost:8080/",
          "height": 453
        },
        "outputId": "0609aaf2-dde6-48d8-bcde-13512935a781"
      },
      "execution_count": null,
      "outputs": [
        {
          "output_type": "display_data",
          "data": {
            "text/plain": [
              "<Figure size 640x480 with 1 Axes>"
            ],
            "image/png": "[encoded data removed]"
          },
          "metadata": {}
        }
      ]
    },
    {
      "cell_type": "code",
      "source": [
        "cuentastotales_cancelaciones= sns.barplot(data=df, x='evasion_clientes', y ='Cuentas_Totales')\n",
        "#cuentastotales_cancelaciones.set_xlabel('Cancelaciones')\n",
        "#cuentastotales_cancelaciones.set_ylabel('Cuentas totales')\n",
        "for container in cuentastotales_cancelaciones.containers:\n",
        "    labels = [f'{int(round(bar.get_height()))}' for bar in container]\n",
        "    cuentastotales_cancelaciones.bar_label(container, labels=labels, padding=3)\n",
        "plt.show()"
      ],
      "metadata": {
        "id": "NZc7lWIjobeQ",
        "colab": {
          "base_uri": "https://localhost:8080/",
          "height": 450
        },
        "outputId": "35df5dd3-a101-4b74-a9d6-48bcf27e2fc7"
      },
      "execution_count": null,
      "outputs": [
        {
          "output_type": "display_data",
          "data": {
            "text/plain": [
              "<Figure size 640x480 with 1 Axes>"
            ],
            "image/png": "[encoded data removed]"
          },
          "metadata": {}
        }
      ]
    },
    {
      "cell_type": "code",
      "source": [],
      "metadata": {
        "id": "NgGz-E0c6GjT"
      },
      "execution_count": null,
      "outputs": []
    },
    {
      "cell_type": "markdown",
      "source": [
        "#**Analisis descriptivo**"
      ],
      "metadata": {
        "id": "joKIaoboHaXy"
      }
    },
    {
      "cell_type": "markdown",
      "source": [
        "Para comenzar, realiza un análisis descriptivo de los datos, calculando métricas como media, mediana, desviación estándar y otras medidas que ayuden a comprender mejor la distribución y el comportamiento de los clientes."
      ],
      "metadata": {
        "id": "uUV0C9wxKDO0"
      }
    },
    {
      "cell_type": "code",
      "source": [
        "df.describe().round(3)\n"
      ],
      "metadata": {
        "id": "49_K_Qqk7P4t",
        "colab": {
          "base_uri": "https://localhost:8080/",
          "height": 300
        },
        "outputId": "5af21b4a-2eac-4928-9641-15a7a430e7f2"
      },
      "execution_count": null,
      "outputs": [
        {
          "output_type": "execute_result",
          "data": {
            "text/plain": [
              "       Tiempo en la empresa  Cuentas_Mensuales  Cuentas_Totales  \\\n",
              "count              7032.000           7032.000         7032.000   \n",
              "mean                 32.422             64.798         2283.300   \n",
              "std                  24.545             30.086         2266.771   \n",
              "min                   1.000             18.250           18.800   \n",
              "25%                   9.000             35.588          401.450   \n",
              "50%                  29.000             70.350         1397.475   \n",
              "75%                  55.000             89.862         3794.738   \n",
              "max                  72.000            118.750         8684.800   \n",
              "\n",
              "       Cuentas_Diarias  \n",
              "count         7032.000  \n",
              "mean             2.160  \n",
              "std              1.003  \n",
              "min              0.610  \n",
              "25%              1.188  \n",
              "50%              2.340  \n",
              "75%              2.992  \n",
              "max              3.960  "
            ],
            "text/html": [
              "\n",
              "  <div id=\"df-53bbeac7-a869-43d5-a86d-b0c4bc4294f6\" class=\"colab-df-container\">\n",
              "    <div>\n",
              "<style scoped>\n",
              "    .dataframe tbody tr th:only-of-type {\n",
              "        vertical-align: middle;\n",
              "    }\n",
              "\n",
              "    .dataframe tbody tr th {\n",
              "        vertical-align: top;\n",
              "    }\n",
              "\n",
              "    .dataframe thead th {\n",
              "        text-align: right;\n",
              "    }\n",
              "</style>\n",
              "<table border=\"1\" class=\"dataframe\">\n",
              "  <thead>\n",
              "    <tr style=\"text-align: right;\">\n",
              "      <th></th>\n",
              "      <th>Tiempo en la empresa</th>\n",
              "      <th>Cuentas_Mensuales</th>\n",
              "      <th>Cuentas_Totales</th>\n",
              "      <th>Cuentas_Diarias</th>\n",
              "    </tr>\n",
              "  </thead>\n",
              "  <tbody>\n",
              "    <tr>\n",
              "      <th>count</th>\n",
              "      <td>7032.000</td>\n",
              "      <td>7032.000</td>\n",
              "      <td>7032.000</td>\n",
              "      <td>7032.000</td>\n",
              "    </tr>\n",
              "    <tr>\n",
              "      <th>mean</th>\n",
              "      <td>32.422</td>\n",
              "      <td>64.798</td>\n",
              "      <td>2283.300</td>\n",
              "      <td>2.160</td>\n",
              "    </tr>\n",
              "    <tr>\n",
              "      <th>std</th>\n",
              "      <td>24.545</td>\n",
              "      <td>30.086</td>\n",
              "      <td>2266.771</td>\n",
              "      <td>1.003</td>\n",
              "    </tr>\n",
              "    <tr>\n",
              "      <th>min</th>\n",
              "      <td>1.000</td>\n",
              "      <td>18.250</td>\n",
              "      <td>18.800</td>\n",
              "      <td>0.610</td>\n",
              "    </tr>\n",
              "    <tr>\n",
              "      <th>25%</th>\n",
              "      <td>9.000</td>\n",
              "      <td>35.588</td>\n",
              "      <td>401.450</td>\n",
              "      <td>1.188</td>\n",
              "    </tr>\n",
              "    <tr>\n",
              "      <th>50%</th>\n",
              "      <td>29.000</td>\n",
              "      <td>70.350</td>\n",
              "      <td>1397.475</td>\n",
              "      <td>2.340</td>\n",
              "    </tr>\n",
              "    <tr>\n",
              "      <th>75%</th>\n",
              "      <td>55.000</td>\n",
              "      <td>89.862</td>\n",
              "      <td>3794.738</td>\n",
              "      <td>2.992</td>\n",
              "    </tr>\n",
              "    <tr>\n",
              "      <th>max</th>\n",
              "      <td>72.000</td>\n",
              "      <td>118.750</td>\n",
              "      <td>8684.800</td>\n",
              "      <td>3.960</td>\n",
              "    </tr>\n",
              "  </tbody>\n",
              "</table>\n",
              "</div>\n",
              "    <div class=\"colab-df-buttons\">\n",
              "\n",
              "  <div class=\"colab-df-container\">\n",
              "    <button class=\"colab-df-convert\" onclick=\"convertToInteractive('df-53bbeac7-a869-43d5-a86d-b0c4bc4294f6')\"\n",
              "            title=\"Convert this dataframe to an interactive table.\"\n",
              "            style=\"display:none;\">\n",
              "\n",
              "  <svg xmlns=\"http://www.w3.org/2000/svg\" height=\"24px\" viewBox=\"0 -960 960 960\">\n",
              "    <path d=\"M120-120v-720h720v720H120Zm60-500h600v-160H180v160Zm220 220h160v-160H400v160Zm0 220h160v-160H400v160ZM180-400h160v-160H180v160Zm440 0h160v-160H620v160ZM180-180h160v-160H180v160Zm440 0h160v-160H620v160Z\"/>\n",
              "  </svg>\n",
              "    </button>\n",
              "\n",
              "  <style>\n",
              "    .colab-df-container {\n",
              "      display:flex;\n",
              "      gap: 12px;\n",
              "    }\n",
              "\n",
              "    .colab-df-convert {\n",
              "      background-color: #E8F0FE;\n",
              "      border: none;\n",
              "      border-radius: 50%;\n",
              "      cursor: pointer;\n",
              "      display: none;\n",
              "      fill: #1967D2;\n",
              "      height: 32px;\n",
              "      padding: 0 0 0 0;\n",
              "      width: 32px;\n",
              "    }\n",
              "\n",
              "    .colab-df-convert:hover {\n",
              "      background-color: #E2EBFA;\n",
              "      box-shadow: 0px 1px 2px rgba(60, 64, 67, 0.3), 0px 1px 3px 1px rgba(60, 64, 67, 0.15);\n",
              "      fill: #174EA6;\n",
              "    }\n",
              "\n",
              "    .colab-df-buttons div {\n",
              "      margin-bottom: 4px;\n",
              "    }\n",
              "\n",
              "    [theme=dark] .colab-df-convert {\n",
              "      background-color: #3B4455;\n",
              "      fill: #D2E3FC;\n",
              "    }\n",
              "\n",
              "    [theme=dark] .colab-df-convert:hover {\n",
              "      background-color: #434B5C;\n",
              "      box-shadow: 0px 1px 3px 1px rgba(0, 0, 0, 0.15);\n",
              "      filter: drop-shadow(0px 1px 2px rgba(0, 0, 0, 0.3));\n",
              "      fill: #FFFFFF;\n",
              "    }\n",
              "  </style>\n",
              "\n",
              "    <script>\n",
              "      const buttonEl =\n",
              "        document.querySelector('#df-53bbeac7-a869-43d5-a86d-b0c4bc4294f6 button.colab-df-convert');\n",
              "      buttonEl.style.display =\n",
              "        google.colab.kernel.accessAllowed ? 'block' : 'none';\n",
              "\n",
              "      async function convertToInteractive(key) {\n",
              "        const element = document.querySelector('#df-53bbeac7-a869-43d5-a86d-b0c4bc4294f6');\n",
              "        const dataTable =\n",
              "          await google.colab.kernel.invokeFunction('convertToInteractive',\n",
              "                                                    [key], {});\n",
              "        if (!dataTable) return;\n",
              "\n",
              "        const docLinkHtml = 'Like what you see? Visit the ' +\n",
              "          '<a target=\"_blank\" href=https://colab.research.google.com/notebooks/data_table.ipynb>data table notebook</a>'\n",
              "          + ' to learn more about interactive tables.';\n",
              "        element.innerHTML = '';\n",
              "        dataTable['output_type'] = 'display_data';\n",
              "        await google.colab.output.renderOutput(dataTable, element);\n",
              "        const docLink = document.createElement('div');\n",
              "        docLink.innerHTML = docLinkHtml;\n",
              "        element.appendChild(docLink);\n",
              "      }\n",
              "    </script>\n",
              "  </div>\n",
              "\n",
              "\n",
              "    <div id=\"df-4efaa9d3-0f86-466b-b408-e7be3932344b\">\n",
              "      <button class=\"colab-df-quickchart\" onclick=\"quickchart('df-4efaa9d3-0f86-466b-b408-e7be3932344b')\"\n",
              "                title=\"Suggest charts\"\n",
              "                style=\"display:none;\">\n",
              "\n",
              "<svg xmlns=\"http://www.w3.org/2000/svg\" height=\"24px\"viewBox=\"0 0 24 24\"\n",
              "     width=\"24px\">\n",
              "    <g>\n",
              "        <path d=\"M19 3H5c-1.1 0-2 .9-2 2v14c0 1.1.9 2 2 2h14c1.1 0 2-.9 2-2V5c0-1.1-.9-2-2-2zM9 17H7v-7h2v7zm4 0h-2V7h2v10zm4 0h-2v-4h2v4z\"/>\n",
              "    </g>\n",
              "</svg>\n",
              "      </button>\n",
              "\n",
              "<style>\n",
              "  .colab-df-quickchart {\n",
              "      --bg-color: #E8F0FE;\n",
              "      --fill-color: #1967D2;\n",
              "      --hover-bg-color: #E2EBFA;\n",
              "      --hover-fill-color: #174EA6;\n",
              "      --disabled-fill-color: #AAA;\n",
              "      --disabled-bg-color: #DDD;\n",
              "  }\n",
              "\n",
              "  [theme=dark] .colab-df-quickchart {\n",
              "      --bg-color: #3B4455;\n",
              "      --fill-color: #D2E3FC;\n",
              "      --hover-bg-color: #434B5C;\n",
              "      --hover-fill-color: #FFFFFF;\n",
              "      --disabled-bg-color: #3B4455;\n",
              "      --disabled-fill-color: #666;\n",
              "  }\n",
              "\n",
              "  .colab-df-quickchart {\n",
              "    background-color: var(--bg-color);\n",
              "    border: none;\n",
              "    border-radius: 50%;\n",
              "    cursor: pointer;\n",
              "    display: none;\n",
              "    fill: var(--fill-color);\n",
              "    height: 32px;\n",
              "    padding: 0;\n",
              "    width: 32px;\n",
              "  }\n",
              "\n",
              "  .colab-df-quickchart:hover {\n",
              "    background-color: var(--hover-bg-color);\n",
              "    box-shadow: 0 1px 2px rgba(60, 64, 67, 0.3), 0 1px 3px 1px rgba(60, 64, 67, 0.15);\n",
              "    fill: var(--button-hover-fill-color);\n",
              "  }\n",
              "\n",
              "  .colab-df-quickchart-complete:disabled,\n",
              "  .colab-df-quickchart-complete:disabled:hover {\n",
              "    background-color: var(--disabled-bg-color);\n",
              "    fill: var(--disabled-fill-color);\n",
              "    box-shadow: none;\n",
              "  }\n",
              "\n",
              "  .colab-df-spinner {\n",
              "    border: 2px solid var(--fill-color);\n",
              "    border-color: transparent;\n",
              "    border-bottom-color: var(--fill-color);\n",
              "    animation:\n",
              "      spin 1s steps(1) infinite;\n",
              "  }\n",
              "\n",
              "  @keyframes spin {\n",
              "    0% {\n",
              "      border-color: transparent;\n",
              "      border-bottom-color: var(--fill-color);\n",
              "      border-left-color: var(--fill-color);\n",
              "    }\n",
              "    20% {\n",
              "      border-color: transparent;\n",
              "      border-left-color: var(--fill-color);\n",
              "      border-top-color: var(--fill-color);\n",
              "    }\n",
              "    30% {\n",
              "      border-color: transparent;\n",
              "      border-left-color: var(--fill-color);\n",
              "      border-top-color: var(--fill-color);\n",
              "      border-right-color: var(--fill-color);\n",
              "    }\n",
              "    40% {\n",
              "      border-color: transparent;\n",
              "      border-right-color: var(--fill-color);\n",
              "      border-top-color: var(--fill-color);\n",
              "    }\n",
              "    60% {\n",
              "      border-color: transparent;\n",
              "      border-right-color: var(--fill-color);\n",
              "    }\n",
              "    80% {\n",
              "      border-color: transparent;\n",
              "      border-right-color: var(--fill-color);\n",
              "      border-bottom-color: var(--fill-color);\n",
              "    }\n",
              "    90% {\n",
              "      border-color: transparent;\n",
              "      border-bottom-color: var(--fill-color);\n",
              "    }\n",
              "  }\n",
              "</style>\n",
              "\n",
              "      <script>\n",
              "        async function quickchart(key) {\n",
              "          const quickchartButtonEl =\n",
              "            document.querySelector('#' + key + ' button');\n",
              "          quickchartButtonEl.disabled = true;  // To prevent multiple clicks.\n",
              "          quickchartButtonEl.classList.add('colab-df-spinner');\n",
              "          try {\n",
              "            const charts = await google.colab.kernel.invokeFunction(\n",
              "                'suggestCharts', [key], {});\n",
              "          } catch (error) {\n",
              "            console.error('Error during call to suggestCharts:', error);\n",
              "          }\n",
              "          quickchartButtonEl.classList.remove('colab-df-spinner');\n",
              "          quickchartButtonEl.classList.add('colab-df-quickchart-complete');\n",
              "        }\n",
              "        (() => {\n",
              "          let quickchartButtonEl =\n",
              "            document.querySelector('#df-4efaa9d3-0f86-466b-b408-e7be3932344b button');\n",
              "          quickchartButtonEl.style.display =\n",
              "            google.colab.kernel.accessAllowed ? 'block' : 'none';\n",
              "        })();\n",
              "      </script>\n",
              "    </div>\n",
              "\n",
              "    </div>\n",
              "  </div>\n"
            ],
            "application/vnd.google.colaboratory.intrinsic+json": {
              "type": "dataframe",
              "summary": "{\n  \"name\": \"df\",\n  \"rows\": 8,\n  \"fields\": [\n    {\n      \"column\": \"Tiempo en la empresa\",\n      \"properties\": {\n        \"dtype\": \"number\",\n        \"std\": 2475.03221831044,\n        \"min\": 1.0,\n        \"max\": 7032.0,\n        \"num_unique_values\": 8,\n        \"samples\": [\n          32.422,\n          29.0,\n          7032.0\n        ],\n        \"semantic_type\": \"\",\n        \"description\": \"\"\n      }\n    },\n    {\n      \"column\": \"Cuentas_Mensuales\",\n      \"properties\": {\n        \"dtype\": \"number\",\n        \"std\": 2464.8092568335355,\n        \"min\": 18.25,\n        \"max\": 7032.0,\n        \"num_unique_values\": 8,\n        \"samples\": [\n          64.798,\n          70.35,\n          7032.0\n        ],\n        \"semantic_type\": \"\",\n        \"description\": \"\"\n      }\n    },\n    {\n      \"column\": \"Cuentas_Totales\",\n      \"properties\": {\n        \"dtype\": \"number\",\n        \"std\": 3117.312992850585,\n        \"min\": 18.8,\n        \"max\": 8684.8,\n        \"num_unique_values\": 8,\n        \"samples\": [\n          2283.3,\n          1397.475,\n          7032.0\n        ],\n        \"semantic_type\": \"\",\n        \"description\": \"\"\n      }\n    },\n    {\n      \"column\": \"Cuentas_Diarias\",\n      \"properties\": {\n        \"dtype\": \"number\",\n        \"std\": 2485.4678029588567,\n        \"min\": 0.61,\n        \"max\": 7032.0,\n        \"num_unique_values\": 8,\n        \"samples\": [\n          2.16,\n          2.34,\n          7032.0\n        ],\n        \"semantic_type\": \"\",\n        \"description\": \"\"\n      }\n    }\n  ]\n}"
            }
          },
          "metadata": {},
          "execution_count": 83
        }
      ]
    },
    {
      "cell_type": "code",
      "source": [
        "df.columns"
      ],
      "metadata": {
        "colab": {
          "base_uri": "https://localhost:8080/"
        },
        "id": "2MeAbKRjQxea",
        "outputId": "469b4d96-aa12-46ec-f858-10a277bbc406"
      },
      "execution_count": null,
      "outputs": [
        {
          "output_type": "execute_result",
          "data": {
            "text/plain": [
              "Index(['customerID', 'evasion_clientes', 'Genero', 'SeniorCitizen', 'Partner',\n",
              "       'Dependents', 'Tiempo en la empresa', 'PhoneService', 'MultipleLines',\n",
              "       'InternetService', 'OnlineSecurity', 'OnlineBackup', 'DeviceProtection',\n",
              "       'Soporte tecnico', 'StreamingTV', 'StreamingMovies', 'Contract',\n",
              "       'PaperlessBilling', 'Metodo de pago', 'Cuentas_Mensuales',\n",
              "       'Cuentas_Totales', 'Cuentas_Diarias'],\n",
              "      dtype='object')"
            ]
          },
          "metadata": {},
          "execution_count": 84
        }
      ]
    },
    {
      "cell_type": "markdown",
      "source": [
        "##Recuento de evasión por variables categóricas"
      ],
      "metadata": {
        "id": "MTjjZRpMOpb6"
      }
    },
    {
      "cell_type": "markdown",
      "source": [
        "Ahora, exploraremos cómo se distribuye la evasión según variables categóricas, como género, tipo de contrato, método de pago, entre otras.\n",
        "\n",
        "Este análisis puede revelar patrones interesantes, por ejemplo, si los clientes de ciertos perfiles tienen una mayor tendencia a cancelar el servicio, lo que ayudará a orientar acciones estratégicas."
      ],
      "metadata": {
        "id": "Z_B9Ok1VPNS3"
      }
    },
    {
      "cell_type": "code",
      "source": [
        "df.columns"
      ],
      "metadata": {
        "colab": {
          "base_uri": "https://localhost:8080/"
        },
        "id": "W9DCOq-LPcsY",
        "outputId": "a63f6d1c-77a8-4e22-916e-22a3c4232cdb"
      },
      "execution_count": null,
      "outputs": [
        {
          "output_type": "execute_result",
          "data": {
            "text/plain": [
              "Index(['customerID', 'evasion_clientes', 'Genero', 'SeniorCitizen', 'Partner',\n",
              "       'Dependents', 'Tiempo en la empresa', 'PhoneService', 'MultipleLines',\n",
              "       'InternetService', 'OnlineSecurity', 'OnlineBackup', 'DeviceProtection',\n",
              "       'Soporte tecnico', 'StreamingTV', 'StreamingMovies', 'Contract',\n",
              "       'PaperlessBilling', 'Metodo de pago', 'Cuentas_Mensuales',\n",
              "       'Cuentas_Totales', 'Cuentas_Diarias'],\n",
              "      dtype='object')"
            ]
          },
          "metadata": {},
          "execution_count": 85
        }
      ]
    },
    {
      "cell_type": "code",
      "source": [],
      "metadata": {
        "id": "kbgJybvd6nEX"
      },
      "execution_count": null,
      "outputs": []
    },
    {
      "cell_type": "code",
      "source": [
        "sns.countplot(data=df, x='Genero', hue='evasion_clientes')\n",
        "plt.show()"
      ],
      "metadata": {
        "colab": {
          "base_uri": "https://localhost:8080/",
          "height": 449
        },
        "id": "WiFfCdaSDW0x",
        "outputId": "ef43b204-8f04-4bf3-e993-81aacb4b78b6"
      },
      "execution_count": null,
      "outputs": [
        {
          "output_type": "display_data",
          "data": {
            "text/plain": [
              "<Figure size 640x480 with 1 Axes>"
            ],
            "image/png": "[encoded data removed]"
          },
          "metadata": {}
        }
      ]
    },
    {
      "cell_type": "code",
      "source": [
        "sns.countplot(data=df, x='Contract', hue='evasion_clientes')\n",
        "plt.show()"
      ],
      "metadata": {
        "colab": {
          "base_uri": "https://localhost:8080/",
          "height": 449
        },
        "id": "fnrS0mVTDWxI",
        "outputId": "32775315-ebc0-4d51-be5d-e18c3861d8e2"
      },
      "execution_count": null,
      "outputs": [
        {
          "output_type": "display_data",
          "data": {
            "text/plain": [
              "<Figure size 640x480 with 1 Axes>"
            ],
            "image/png": "[encoded data removed]"
          },
          "metadata": {}
        }
      ]
    },
    {
      "cell_type": "code",
      "source": [
        "sns.countplot(data=df, x='Metodo de pago', hue='evasion_clientes')\n",
        "plt.xticks(rotation=45)\n",
        "plt.show()"
      ],
      "metadata": {
        "colab": {
          "base_uri": "https://localhost:8080/",
          "height": 573
        },
        "id": "j9_6vmn_DWop",
        "outputId": "7ea145ad-a48f-4f7c-bde8-fdb6d8ddd04f"
      },
      "execution_count": null,
      "outputs": [
        {
          "output_type": "display_data",
          "data": {
            "text/plain": [
              "<Figure size 640x480 with 1 Axes>"
            ],
            "image/png": "[encoded data removed]"
          },
          "metadata": {}
        }
      ]
    },
    {
      "cell_type": "markdown",
      "source": [
        "En este paso, explora cómo las variables numéricas, como \"total gastado\" o \"tiempo de contrato\", se distribuyen entre los clientes que cancelaron (evasión) y los que no cancelaron.\n",
        "\n",
        "Este análisis ayuda a entender si ciertos valores numéricos están más asociados con la evasión, proporcionando insights sobre los factores que influyen en el comportamiento de los clientes."
      ],
      "metadata": {
        "id": "rhVEpOAnXz9I"
      }
    },
    {
      "cell_type": "code",
      "source": [
        "sns.barplot(data=df, x='evasion_clientes', y='Cuentas_Totales')\n",
        "plt.show()"
      ],
      "metadata": {
        "colab": {
          "base_uri": "https://localhost:8080/",
          "height": 450
        },
        "id": "PIx6CitqX1L6",
        "outputId": "47d50506-e2cb-4ed6-c5b3-2ec131e4bb8a"
      },
      "execution_count": null,
      "outputs": [
        {
          "output_type": "display_data",
          "data": {
            "text/plain": [
              "<Figure size 640x480 with 1 Axes>"
            ],
            "image/png": "[encoded data removed]"
          },
          "metadata": {}
        }
      ]
    },
    {
      "cell_type": "markdown",
      "source": [
        "#Informe"
      ],
      "metadata": {
        "id": "HnPWaVkaubHi"
      }
    },
    {
      "cell_type": "markdown",
      "source": [
        "inaliza el desafío elaborando un informe dentro del mismo notebook que resuma todo el trabajo realizado. El informe debe incluir:\n",
        "\n",
        "\n",
        "\n",
        "\n",
        "\n",
        "\n",
        "\n",
        "\n",
        "\n",
        "\n",
        "Asegúrate de que el informe esté bien estructurado, claro y respaldado por visualizaciones que refuercen tus conclusiones. 🚀"
      ],
      "metadata": {
        "id": "ElunXSN_rJIx"
      }
    },
    {
      "cell_type": "markdown",
      "source": [
        "\n",
        "Nos concentramos en la empresa Telecom X con el fin de hacer un analisis de perdida de clientes (Churn)\n",
        "\n",
        "queremos con esto destacar la importancia de los puntos claves sobre lo que vamos a evaluar\n",
        "\n",
        "\n",
        "\n",
        "*   Medir la fidelizacion de los clientes\n",
        "*   Observar si el churn esta relacionado con el producto, la satisfaccion o la atencion\n",
        "*   Como impacta en los ingresos\n",
        "*   Que variables estan realcionadas con el abandono\n",
        "\n",
        "\n",
        "\n",
        "\n",
        "\n"
      ],
      "metadata": {
        "id": "SaDelrnhMBRr"
      }
    },
    {
      "cell_type": "markdown",
      "source": [
        "**🔹 Introducción: Explica el objetivo del análisis y el problema de evasión de clientes (Churn).**\n",
        "\n",
        "La empresa Telecom X nos brindo un archivo desde un link de guithub.\n",
        "\n",
        "Como primer paso importamos los archivos de la url para de esa manera mejorar la manipulacion, posteriormante cargamos en una variable el Dataframe. Cuando exploramos nuestra variable verificamos que posee algunas columnas que estan compuesta por diccionarios por ese motivo normalizamos dichas columnas para manejar un dataframe mas claro y manipulable.\n"
      ],
      "metadata": {
        "id": "JBApP-KsMBL6"
      }
    },
    {
      "cell_type": "markdown",
      "source": [
        "**🔹 Limpieza y Tratamiento de Datos: Describe los pasos realizados para importar, limpiar y procesar los datos.**\n",
        "\n",
        "Comenzamos el tratamiento definiendo el diccionario de los datos para poder comprender cada variable que tenemos y cual es su funcion dentro del dataframe. Renombramos algunas columnas para poder tener mas claro que representa dicha variable y creamos una nueva columna llamada cuentas diarias para poder saber el monto que el cliente paga por dia del servicio. Por otra parte verificamos las columas que poseen dartos nulos y elegimos la mejor estrategia posible para manupular los datos faltantes (en este caso borrarlas ya que solo representaba el 3% del total de los registros). Estandarizamos algunas columnas que contienen variables si/no por 1/0 para hacer las facil su trabajo con respecto a la relacion con otras variables. Corregimos el tipo de algunas columnas que estaban como object a int o float segun corresponda el dato que contengan"
      ],
      "metadata": {
        "id": "8x8oVQTuMBIz"
      }
    },
    {
      "cell_type": "markdown",
      "source": [
        "**🔹 Análisis Exploratorio de Datos: Presenta los análisis realizados, incluyendo gráficos y visualizaciones para identificar patrones.**\n",
        "\n",
        "Una vez realizada la manipulacion de los datos procedemos a realizar un analisis exploratorio de los mismos y la relacion que poseen con el analisis de perdida de clientes mediante el metodo describe podemos tener un analisis general de las variables a trabajar y donde podemos observar la media, la mediana, la moda y los cuartiles a trabajar. Como principal medida nos concentramos en la relacion de la variable Total gastado (representa la cuenta y los gastos que tiene el cliente en la empresa) y el Churn obteniendo asi el grafico correspondiente. Paso siguente relacionamos en la grafica de barras la columna tiempo en la empresa con el churn"
      ],
      "metadata": {
        "id": "Y-F8FwjaMA_b"
      }
    },
    {
      "cell_type": "markdown",
      "source": [
        "**🔹 Conclusiones e Insights: Resume los principales hallazgos y cómo estos datos pueden ayudar a reducir la evasión.**\n",
        "\n",
        "Del analisis y de las graficas observables de las variables categoricas y no categoricas podemos obtener los siguientes hallazgos\n",
        "\n",
        "*   Cuanto mas tiempo tiene en la empresa tiene un 50% mas de probabiliada de mmantener el servicio\n",
        "*   No hay ningun indicio que dependiendo del sexo este relacionado con el abandono de la empresa\n",
        "\n",
        "*   Se nota una relacion entre el tipo de contrato que posee el cliente con la perdida del mismo ya que cuando el cliente tiene un contrato a corto plazo es mas propenso a irse de la empresa\n",
        "\n",
        "*   En el metodo de pago tambien podemos observar una relacion con respecto a la evasion del servicio\n",
        "*   Elemento de lista\n",
        "\n",
        "\n",
        "\n",
        "\n",
        "\n",
        "\n",
        "\n"
      ],
      "metadata": {
        "id": "Q-AeCw21sBnS"
      }
    },
    {
      "cell_type": "markdown",
      "source": [
        "**🔹 Recomendaciones: Ofrece sugerencias estratégicas basadas en tu análisis.**\n",
        "\n",
        "Teniendo como premisa que siempre es mas facil mantener un cliente que adquirir nuevos nos vamos a centrar sobre lo observable en el analisis exploratorio y los graficos del siguiente modo notamos lo siguiente :\n",
        "\n",
        "\n",
        "*   Crear acciones para que el cliente pueda tener contrato por mas de 2 años ya que la grafica nos nuestra que un cliente que tiene contratos mas largos tienen la intension de seguir en la empresa\n",
        "*   Incentivar a que el pago del servicio principalmente sea mediante tarjeta de credito de manera automatica o por transferencia bancaria automatica\n",
        "*   Incentivar a la fidelizacion con promociones para que los clientes tengan mas servicios en la empresa ya que cuanto mas cuenta tiene mas propenso a quedarse\n",
        "\n",
        "\n",
        "\n",
        "\n",
        "\n"
      ],
      "metadata": {
        "id": "47STDbAVsB4L"
      }
    },
    {
      "cell_type": "code",
      "source": [],
      "metadata": {
        "id": "0D8_EyQS6jPo"
      },
      "execution_count": null,
      "outputs": []
    }
  ]
}